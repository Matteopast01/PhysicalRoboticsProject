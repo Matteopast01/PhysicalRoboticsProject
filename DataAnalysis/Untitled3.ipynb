{
 "cells": [
  {
   "cell_type": "code",
   "execution_count": 1,
   "id": "73eebfaf",
   "metadata": {},
   "outputs": [
    {
     "data": {
      "text/plain": [
       "LinearRegression()"
      ]
     },
     "execution_count": 1,
     "metadata": {},
     "output_type": "execute_result"
    }
   ],
   "source": [
    "import pandas as pd\n",
    "from sklearn.linear_model import LinearRegression\n",
    "import matplotlib.pyplot as plt\n",
    "import numpy as np\n",
    "\n",
    "dataset = pd.DataFrame({\n",
    "            'Time': [3.3, 1.69, 0.9, 0.5],\n",
    "            'Angle': [2*np.pi, np.pi, np.pi/2, np.pi/4]\n",
    "        })\n",
    "X = dataset[['Angle']]\n",
    "Y = dataset['Time']\n",
    "reg = LinearRegression()\n",
    "reg.fit(X, Y)"
   ]
  },
  {
   "cell_type": "markdown",
   "id": "fd6bb245",
   "metadata": {},
   "source": [
    "# Plot"
   ]
  },
  {
   "cell_type": "code",
   "execution_count": 2,
   "id": "c2ea7a0d",
   "metadata": {},
   "outputs": [
    {
     "data": {
      "image/png": "[encoded data removed]",
      "text/plain": [
       "<Figure size 640x480 with 1 Axes>"
      ]
     },
     "metadata": {},
     "output_type": "display_data"
    }
   ],
   "source": [
    "diabetes_y_pred = reg.predict(X)\n",
    "# Plot outputs\n",
    "plt.scatter(X, Y, color=\"black\")\n",
    "plt.plot(X, diabetes_y_pred, color=\"blue\", linewidth=3)\n",
    "\n",
    "plt.show()"
   ]
  },
  {
   "cell_type": "markdown",
   "id": "7587e452",
   "metadata": {},
   "source": [
    "# Calculate m (angular coefficient)"
   ]
  },
  {
   "cell_type": "code",
   "execution_count": 3,
   "id": "eecbdd2e",
   "metadata": {},
   "outputs": [
    {
     "name": "stdout",
     "output_type": "stream",
     "text": [
      "Coefficients: \n",
      " 0.5091851014119142\n"
     ]
    }
   ],
   "source": [
    "diabetes_y_pred = reg.predict(X)\n",
    "\n",
    "# The coefficients\n",
    "print(\"Coefficients: \\n\", reg.coef_[0])\n",
    "# The mean squared error\n",
    "\n"
   ]
  },
  {
   "cell_type": "markdown",
   "id": "00c19615",
   "metadata": {},
   "source": [
    "# Calculate Q"
   ]
  },
  {
   "cell_type": "code",
   "execution_count": 4,
   "id": "0be6ea35",
   "metadata": {},
   "outputs": [
    {
     "data": {
      "text/plain": [
       "0.09782608695652195"
      ]
     },
     "execution_count": 4,
     "metadata": {},
     "output_type": "execute_result"
    }
   ],
   "source": [
    "dataset = pd.DataFrame({\n",
    "            'Time': [0],\n",
    "            'Angle': [0]\n",
    "        })\n",
    "x_to_predict = dataset[['Angle']]\n",
    "reg.predict(x_to_predict)[0]"
   ]
  },
  {
   "cell_type": "code",
   "execution_count": 8,
   "id": "2dcfab0d",
   "metadata": {},
   "outputs": [
    {
     "data": {
      "text/plain": [
       "0.5005530633326987"
      ]
     },
     "execution_count": 8,
     "metadata": {},
     "output_type": "execute_result"
    }
   ],
   "source": [
    "0.1 + (0.51 * np.pi/4) "
   ]
  },
  {
   "cell_type": "code",
   "execution_count": null,
   "id": "3ed9ad30",
   "metadata": {},
   "outputs": [],
   "source": [
    "import numpy as np\n",
    "0.00579517\n"
   ]
  }
 ],
 "metadata": {
  "kernelspec": {
   "display_name": "Python 3 (ipykernel)",
   "language": "python",
   "name": "python3"
  },
  "language_info": {
   "codemirror_mode": {
    "name": "ipython",
    "version": 3
   },
   "file_extension": ".py",
   "mimetype": "text/x-python",
   "name": "python",
   "nbconvert_exporter": "python",
   "pygments_lexer": "ipython3",
   "version": "3.9.13"
  }
 },
 "nbformat": 4,
 "nbformat_minor": 5
}
